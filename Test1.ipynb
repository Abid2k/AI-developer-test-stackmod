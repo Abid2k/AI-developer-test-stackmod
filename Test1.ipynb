{
 "cells": [
  {
   "cell_type": "markdown",
   "id": "6e145474-ed0f-4652-9686-d908c73c6619",
   "metadata": {},
   "source": [
    "## Libraries"
   ]
  },
  {
   "cell_type": "code",
   "execution_count": 1,
   "id": "6cd4377d-be09-45fa-93d2-26ace51d3309",
   "metadata": {},
   "outputs": [
    {
     "name": "stdout",
     "output_type": "stream",
     "text": [
      "WARNING:tensorflow:From C:\\Users\\HP\\AppData\\Local\\Programs\\Python\\Python311\\Lib\\site-packages\\keras\\src\\losses.py:2976: The name tf.losses.sparse_softmax_cross_entropy is deprecated. Please use tf.compat.v1.losses.sparse_softmax_cross_entropy instead.\n",
      "\n"
     ]
    }
   ],
   "source": [
    "import os\n",
    "import glob\n",
    "import random\n",
    "import librosa\n",
    "import librosa.display\n",
    "\n",
    "import numpy as np\n",
    "import pandas as pd\n",
    "\n",
    "from sklearn.model_selection import train_test_split\n",
    "\n",
    "import tensorflow as tf\n",
    "from tensorflow.keras.models import Sequential, Model\n",
    "from tensorflow.keras.optimizers import Adam, SGD\n",
    "from tensorflow.keras.layers import Conv2D, MaxPooling2D, RNN, LSTM, GRU, Flatten, Dropout, ReLU, BatchNormalization, Dense\n",
    "from tensorflow.keras.activations import tanh, sigmoid, softmax, relu\n",
    "from tensorflow.keras.callbacks import EarlyStopping, ModelCheckpoint\n",
    "\n"
   ]
  },
  {
   "cell_type": "markdown",
   "id": "11d717ec-0d44-41ae-9937-0833c5fad8e7",
   "metadata": {},
   "source": [
    "## Preprocess"
   ]
  },
  {
   "cell_type": "code",
   "execution_count": 2,
   "id": "f52e178a-4c9d-49d4-a69a-4d0349164b82",
   "metadata": {},
   "outputs": [],
   "source": [
    "# Define constants\n",
    "sample_rate = 16000\n",
    "Samples = 16000\n",
    "Dataset = \"Dataset\""
   ]
  },
  {
   "cell_type": "code",
   "execution_count": 3,
   "id": "625af629-150b-452f-8a34-7c5bd37dcde6",
   "metadata": {},
   "outputs": [],
   "source": [
    "file_names = ['bed','bird','cat','dog','down', 'eight']"
   ]
  },
  {
   "cell_type": "code",
   "execution_count": 4,
   "id": "c70dfd73-a23a-4b88-b0a0-abdc58aa9677",
   "metadata": {},
   "outputs": [],
   "source": [
    "# folder_path = [os.path.join(Dataset.na) for name in file_names]"
   ]
  },
  {
   "cell_type": "code",
   "execution_count": 5,
   "id": "dc05b846-db0f-4124-b5e7-ed676af9cfa4",
   "metadata": {},
   "outputs": [],
   "source": [
    "# print(folder_path)"
   ]
  },
  {
   "cell_type": "code",
   "execution_count": 6,
   "id": "4d570622-2b1c-4f34-a955-5774f8876870",
   "metadata": {},
   "outputs": [],
   "source": [
    "def load_audio(path):\n",
    "    audio, _ = librosa.load(path, sr=sample_rate)\n",
    "    if len(audio) < Samples:\n",
    "        audio = np.pad(audio, (0, Samples - len(audio)))  # Fixed padding\n",
    "    else:\n",
    "        audio = audio[:Samples]\n",
    "    return audio"
   ]
  },
  {
   "cell_type": "markdown",
   "id": "78e8fc8b-8f9b-43cb-8b3f-d2757d396ea4",
   "metadata": {},
   "source": [
    "## MEL-Spectrum"
   ]
  },
  {
   "cell_type": "code",
   "execution_count": 7,
   "id": "1c54158a-29c2-4165-91ff-6a69fad6533f",
   "metadata": {},
   "outputs": [],
   "source": [
    "# sample_rate = 16000"
   ]
  },
  {
   "cell_type": "code",
   "execution_count": 8,
   "id": "00dd7a36-8155-4aec-afca-db4f6b0479fb",
   "metadata": {},
   "outputs": [],
   "source": [
    "def get_mel(audio):\n",
    "    mel_spec = librosa.feature.melspectrogram(y=audio, sr=sample_rate)\n",
    "    mel_spec = librosa.power_to_db(mel_spec, ref=np.max)  \n",
    "    return mel_spec"
   ]
  },
  {
   "cell_type": "code",
   "execution_count": null,
   "id": "0d745f5a-3795-4786-8c32-0cfdf2d2838c",
   "metadata": {},
   "outputs": [],
   "source": []
  },
  {
   "cell_type": "code",
   "execution_count": null,
   "id": "c00595bb-3b99-4ebb-a044-470439e20ea1",
   "metadata": {},
   "outputs": [],
   "source": []
  },
  {
   "cell_type": "code",
   "execution_count": null,
   "id": "f0ea5a8c-0127-4153-8781-150534c132d5",
   "metadata": {},
   "outputs": [],
   "source": []
  },
  {
   "cell_type": "code",
   "execution_count": 9,
   "id": "1eb06046-9781-4ff6-a8b8-af10e0dfa202",
   "metadata": {},
   "outputs": [],
   "source": [
    "# x,y,label_map = load_data()"
   ]
  },
  {
   "cell_type": "code",
   "execution_count": 10,
   "id": "38b82a4e-3903-47b8-9189-af9e5e8d4509",
   "metadata": {},
   "outputs": [
    {
     "data": {
      "text/plain": [
       "'1.25.2'"
      ]
     },
     "execution_count": 10,
     "metadata": {},
     "output_type": "execute_result"
    }
   ],
   "source": [
    "import numpy\n",
    "numpy.version.version"
   ]
  },
  {
   "cell_type": "code",
   "execution_count": null,
   "id": "8b91d2bb-5c05-40ce-8a9c-ed1157daf700",
   "metadata": {},
   "outputs": [],
   "source": []
  },
  {
   "cell_type": "code",
   "execution_count": 11,
   "id": "fcbcd9cb-c94d-49e6-9ad6-792eb0579842",
   "metadata": {},
   "outputs": [
    {
     "name": "stdout",
     "output_type": "stream",
     "text": [
      " -- -- -- -- --\n",
      "Sample Files 1:\n",
      " -- -- -- -- --\n",
      " -- -- -- -- --\n",
      "Sample Files 1:\n",
      " -- -- -- -- --\n",
      " -- -- -- -- --\n",
      "Sample Files 1:\n",
      " -- -- -- -- --\n",
      " -- -- -- -- --\n",
      "Sample Files 1:\n",
      " -- -- -- -- --\n",
      " -- -- -- -- --\n",
      "Sample Files 1:\n",
      " -- -- -- -- --\n",
      " -- -- -- -- --\n",
      "Sample Files 1:\n",
      " -- -- -- -- --\n"
     ]
    }
   ],
   "source": [
    "\n",
    "def load_data():\n",
    "    x, y = [], []\n",
    "    label_map = {label: i for i, label in enumerate(file_names)}\n",
    "\n",
    "    for label in file_names:\n",
    "        files = glob.glob(os.path.join(Dataset, label, \"*.wav\"))\n",
    "        print(\" --\" * 5)\n",
    "        print(\"Sample Files 1:\")\n",
    "        print(\" --\" * 5)\n",
    "\n",
    "        for file in files:\n",
    "            audio = load_audio(file)  # Fixed variable name\n",
    "            mel_spec = get_mel(audio)\n",
    "            x.append(mel_spec)\n",
    "            y.append(label_map[label])\n",
    "    \n",
    "    return np.array(x), np.array(y), label_map\n",
    "\n",
    "# Load data\n",
    "x, y, label_map = load_data()\n"
   ]
  },
  {
   "cell_type": "markdown",
   "id": "88978724-3294-4689-94e9-76d65261a10d",
   "metadata": {},
   "source": [
    "## Train Test Split"
   ]
  },
  {
   "cell_type": "code",
   "execution_count": 12,
   "id": "562a0fee-ef73-4cf6-8bda-0a934a228581",
   "metadata": {},
   "outputs": [],
   "source": [
    "x_train, x_test, y_train, y_test = train_test_split(x, y, test_size=0.2, random_state=32)\n"
   ]
  },
  {
   "cell_type": "code",
   "execution_count": 13,
   "id": "82b6c34a-09cc-449f-b8d7-1475c6359856",
   "metadata": {},
   "outputs": [
    {
     "name": "stdout",
     "output_type": "stream",
     "text": [
      "train sample : 8910, 8910\n"
     ]
    }
   ],
   "source": [
    "print(f\"train sample : {len(x_train)}, {len(y_train)}\")\n"
   ]
  },
  {
   "cell_type": "code",
   "execution_count": 14,
   "id": "417a0d78-8f66-4612-8004-3fc0a275911c",
   "metadata": {},
   "outputs": [],
   "source": [
    "x_train = x_train[..., np.newaxis]"
   ]
  },
  {
   "cell_type": "markdown",
   "id": "aaaa85e7-3b22-4021-83df-e71677a7312a",
   "metadata": {},
   "source": [
    "## Model"
   ]
  },
  {
   "cell_type": "code",
   "execution_count": 15,
   "id": "37d9cdbf-64ad-47a1-a682-4ebdb95686cb",
   "metadata": {},
   "outputs": [],
   "source": [
    "def build_model(input_shape, num_classes):\n",
    "    model = Sequential([\n",
    "\n",
    "        Conv2D(32,(3,3), activation = \"relu\", input_shape = input_shape),\n",
    "        MaxPooling2D((2,2)),\n",
    "        Conv2D(64,(3,3),activation = \"relu\"),\n",
    "        MaxPooling2D((2,2)),\n",
    "        Conv2D(128,(3,3),activation = \"relu\"),\n",
    "        MaxPooling2D((2,2)),\n",
    "        Flatten(),\n",
    "        Dense(128, activation = \"relu\"),\n",
    "        Dropout(0.2),\n",
    "        Dense(num_classes, activation = \"softmax\")\n",
    "     ])\n",
    "    return model"
   ]
  },
  {
   "cell_type": "code",
   "execution_count": 16,
   "id": "c427a2f3-f12b-47f6-ab0d-be27e0337912",
   "metadata": {},
   "outputs": [
    {
     "name": "stdout",
     "output_type": "stream",
     "text": [
      "WARNING:tensorflow:From C:\\Users\\HP\\AppData\\Local\\Programs\\Python\\Python311\\Lib\\site-packages\\keras\\src\\backend.py:873: The name tf.get_default_graph is deprecated. Please use tf.compat.v1.get_default_graph instead.\n",
      "\n",
      "WARNING:tensorflow:From C:\\Users\\HP\\AppData\\Local\\Programs\\Python\\Python311\\Lib\\site-packages\\keras\\src\\layers\\pooling\\max_pooling2d.py:161: The name tf.nn.max_pool is deprecated. Please use tf.nn.max_pool2d instead.\n",
      "\n"
     ]
    }
   ],
   "source": [
    "model = build_model(x_train[0].shape, len(file_names))"
   ]
  },
  {
   "cell_type": "code",
   "execution_count": 17,
   "id": "88590081-ea30-46b9-ad85-8fadee29f924",
   "metadata": {},
   "outputs": [
    {
     "name": "stdout",
     "output_type": "stream",
     "text": [
      "Model: \"sequential\"\n",
      "_________________________________________________________________\n",
      " Layer (type)                Output Shape              Param #   \n",
      "=================================================================\n",
      " conv2d (Conv2D)             (None, 126, 30, 32)       320       \n",
      "                                                                 \n",
      " max_pooling2d (MaxPooling2  (None, 63, 15, 32)        0         \n",
      " D)                                                              \n",
      "                                                                 \n",
      " conv2d_1 (Conv2D)           (None, 61, 13, 64)        18496     \n",
      "                                                                 \n",
      " max_pooling2d_1 (MaxPoolin  (None, 30, 6, 64)         0         \n",
      " g2D)                                                            \n",
      "                                                                 \n",
      " conv2d_2 (Conv2D)           (None, 28, 4, 128)        73856     \n",
      "                                                                 \n",
      " max_pooling2d_2 (MaxPoolin  (None, 14, 2, 128)        0         \n",
      " g2D)                                                            \n",
      "                                                                 \n",
      " flatten (Flatten)           (None, 3584)              0         \n",
      "                                                                 \n",
      " dense (Dense)               (None, 128)               458880    \n",
      "                                                                 \n",
      " dropout (Dropout)           (None, 128)               0         \n",
      "                                                                 \n",
      " dense_1 (Dense)             (None, 6)                 774       \n",
      "                                                                 \n",
      "=================================================================\n",
      "Total params: 552326 (2.11 MB)\n",
      "Trainable params: 552326 (2.11 MB)\n",
      "Non-trainable params: 0 (0.00 Byte)\n",
      "_________________________________________________________________\n"
     ]
    }
   ],
   "source": [
    "model.summary()"
   ]
  },
  {
   "cell_type": "code",
   "execution_count": 18,
   "id": "398478f5-e0e1-41eb-b1fd-8a04c369a461",
   "metadata": {},
   "outputs": [
    {
     "name": "stdout",
     "output_type": "stream",
     "text": [
      "WARNING:tensorflow:From C:\\Users\\HP\\AppData\\Local\\Programs\\Python\\Python311\\Lib\\site-packages\\keras\\src\\optimizers\\__init__.py:309: The name tf.train.Optimizer is deprecated. Please use tf.compat.v1.train.Optimizer instead.\n",
      "\n"
     ]
    }
   ],
   "source": [
    "model.compile(optimizer=\"adam\", loss = \"sparse_categorical_crossentropy\", metrics = ['accuracy'])"
   ]
  },
  {
   "cell_type": "code",
   "execution_count": 20,
   "id": "3bbb5c1f-4b11-42b8-b639-be34ed191c27",
   "metadata": {},
   "outputs": [],
   "source": [
    "early = EarlyStopping(monitor = \"val_loss\", patience = 5, restore_best_weights = True)"
   ]
  },
  {
   "cell_type": "code",
   "execution_count": 21,
   "id": "8e368ec5-476c-42b5-b04e-415b23d1b5e0",
   "metadata": {},
   "outputs": [
    {
     "name": "stdout",
     "output_type": "stream",
     "text": [
      "Epoch 1/20\n",
      "279/279 [==============================] - 45s 160ms/step - loss: 0.1394 - accuracy: 0.9510 - val_loss: 0.2295 - val_accuracy: 0.9174\n",
      "Epoch 2/20\n",
      "279/279 [==============================] - 44s 159ms/step - loss: 0.1252 - accuracy: 0.9574 - val_loss: 0.1653 - val_accuracy: 0.9452\n",
      "Epoch 3/20\n",
      "279/279 [==============================] - 42s 151ms/step - loss: 0.1112 - accuracy: 0.9612 - val_loss: 0.1814 - val_accuracy: 0.9425\n",
      "Epoch 4/20\n",
      "279/279 [==============================] - 44s 158ms/step - loss: 0.0952 - accuracy: 0.9664 - val_loss: 0.1982 - val_accuracy: 0.9408\n",
      "Epoch 5/20\n",
      "279/279 [==============================] - 43s 156ms/step - loss: 0.0804 - accuracy: 0.9728 - val_loss: 0.2657 - val_accuracy: 0.9228\n",
      "Epoch 6/20\n",
      "279/279 [==============================] - 43s 155ms/step - loss: 0.0966 - accuracy: 0.9632 - val_loss: 0.2074 - val_accuracy: 0.9309\n",
      "Epoch 7/20\n",
      "279/279 [==============================] - 54s 193ms/step - loss: 0.0856 - accuracy: 0.9691 - val_loss: 0.1581 - val_accuracy: 0.9515\n",
      "Epoch 8/20\n",
      "279/279 [==============================] - 56s 201ms/step - loss: 0.0676 - accuracy: 0.9767 - val_loss: 0.1600 - val_accuracy: 0.9569\n",
      "Epoch 9/20\n",
      "113/279 [===========>..................] - ETA: 25s - loss: 0.0517 - accuracy: 0.9804"
     ]
    },
    {
     "name": "stderr",
     "output_type": "stream",
     "text": [
      "\n",
      "KeyboardInterrupt\n",
      "\n"
     ]
    }
   ],
   "source": [
    "epoch= 20\n",
    "batch_size = 32\n",
    "\n",
    "history = model.fit(x_train, y_train, validation_data = (x_test,y_test), epochs = epoch, batch_size = batch_size, callbacks= [early])"
   ]
  },
  {
   "cell_type": "code",
   "execution_count": null,
   "id": "9e703edc-def4-4780-95f8-2534bc542511",
   "metadata": {},
   "outputs": [],
   "source": [
    "import matplotlib.pyplot as plt\n",
    "\n",
    "plt.plot(history.history['accuracy'], label='Training Accuracy')\n",
    "plt.plot(history.history['val_accuracy'], label='Validation Accuracy')\n",
    "plt.xlabel('Epoch')\n",
    "plt.ylabel('Accuracy')\n",
    "plt.legend()\n",
    "plt.show()\n"
   ]
  },
  {
   "cell_type": "code",
   "execution_count": null,
   "id": "d9ff0e80-c24f-4f02-b5ff-dd89b73fa13a",
   "metadata": {},
   "outputs": [],
   "source": [
    "loss, accuracy = model.evaluate(x_train, y_train)\n",
    "print(f\"Training Accuracy: {accuracy:.2f}\")\n"
   ]
  },
  {
   "cell_type": "markdown",
   "id": "52960191-1e68-4047-8578-bb2a2bf3854e",
   "metadata": {},
   "source": [
    "## inference:"
   ]
  },
  {
   "cell_type": "code",
   "execution_count": null,
   "id": "37d7d296-57ed-44ec-8eb2-be1b6a60935d",
   "metadata": {},
   "outputs": [],
   "source": [
    "index = random.randint(0, len(x_test) - 1)\n",
    "sample = x_test[index]\n",
    "true_label = y_test[index]"
   ]
  },
  {
   "cell_type": "code",
   "execution_count": null,
   "id": "db645c26-6271-4f51-a321-268347c51ada",
   "metadata": {},
   "outputs": [],
   "source": [
    "sample_input = np.expand_dims(sample, axis = 0)"
   ]
  },
  {
   "cell_type": "code",
   "execution_count": null,
   "id": "3c3c7210-eee5-4aa6-99cf-bf41683fb1f7",
   "metadata": {},
   "outputs": [],
   "source": [
    "prediction = model.predict(sample_input)\n",
    "prediction_label = np.argmax(prediction)\n",
    "\n"
   ]
  },
  {
   "cell_type": "code",
   "execution_count": null,
   "id": "8aabb8fa-d1e3-4bd4-8346-b51eea2c9179",
   "metadata": {},
   "outputs": [],
   "source": [
    "label_mappppp = {v : k for k, v for v in label_map.itme()}\n",
    "print(f\"Actual Label :{label_mappppp[true_label]}\")\n",
    "print(f\"Predicted Label :{label_mappppp[prediction_label]}\")"
   ]
  },
  {
   "cell_type": "code",
   "execution_count": null,
   "id": "e94de291-9928-4361-b0cc-54d3f8751060",
   "metadata": {},
   "outputs": [],
   "source": []
  }
 ],
 "metadata": {
  "kernelspec": {
   "display_name": "Python 3 (ipykernel)",
   "language": "python",
   "name": "python3"
  },
  "language_info": {
   "codemirror_mode": {
    "name": "ipython",
    "version": 3
   },
   "file_extension": ".py",
   "mimetype": "text/x-python",
   "name": "python",
   "nbconvert_exporter": "python",
   "pygments_lexer": "ipython3",
   "version": "3.11.4"
  }
 },
 "nbformat": 4,
 "nbformat_minor": 5
}
